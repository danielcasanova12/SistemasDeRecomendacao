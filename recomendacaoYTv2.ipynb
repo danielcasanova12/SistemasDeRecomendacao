{
 "cells": [
  {
   "cell_type": "code",
   "execution_count": 6,
   "metadata": {},
   "outputs": [
    {
     "name": "stdout",
     "output_type": "stream",
     "text": [
      "Requirement already satisfied: nltk in c:\\users\\daneil\\appdata\\local\\programs\\python\\python311\\lib\\site-packages (3.8.1)\n",
      "Requirement already satisfied: click in c:\\users\\daneil\\appdata\\local\\programs\\python\\python311\\lib\\site-packages (from nltk) (8.1.7)\n",
      "Requirement already satisfied: joblib in c:\\users\\daneil\\appdata\\local\\programs\\python\\python311\\lib\\site-packages (from nltk) (1.3.2)\n",
      "Requirement already satisfied: regex>=2021.8.3 in c:\\users\\daneil\\appdata\\local\\programs\\python\\python311\\lib\\site-packages (from nltk) (2024.7.24)\n",
      "Requirement already satisfied: tqdm in c:\\users\\daneil\\appdata\\local\\programs\\python\\python311\\lib\\site-packages (from nltk) (4.62.3)\n",
      "Requirement already satisfied: colorama in c:\\users\\daneil\\appdata\\local\\programs\\python\\python311\\lib\\site-packages (from click->nltk) (0.4.6)\n"
     ]
    },
    {
     "name": "stderr",
     "output_type": "stream",
     "text": [
      "DEPRECATION: Loading egg at c:\\users\\daneil\\appdata\\local\\programs\\python\\python311\\lib\\site-packages\\magicformulabr-0.1.0-py3.11.egg is deprecated. pip 24.3 will enforce this behaviour change. A possible replacement is to use pip for package installation. Discussion can be found at https://github.com/pypa/pip/issues/12330\n",
      "\n",
      "[notice] A new release of pip is available: 24.1.1 -> 24.2\n",
      "[notice] To update, run: python.exe -m pip install --upgrade pip\n"
     ]
    }
   ],
   "source": [
    "!pip install nltk\n"
   ]
  },
  {
   "cell_type": "code",
   "execution_count": 7,
   "metadata": {},
   "outputs": [],
   "source": [
    "import pandas as pd\n",
    "import numpy as np\n",
    "from sklearn.feature_extraction.text import CountVectorizer\n",
    "from sklearn.metrics.pairwise import cosine_similarity\n",
    "import nltk\n",
    "from nltk.stem.porter import PorterStemmer\n",
    "import ast\n"
   ]
  },
  {
   "cell_type": "code",
   "execution_count": 8,
   "metadata": {},
   "outputs": [],
   "source": [
    "\n",
    "# Carregar os dados\n",
    "credits_df = pd.read_csv('credits.csv')\n",
    "movies_df = pd.read_csv('movies.csv')\n",
    "movies_df = movies_df.merge(credits_df, on='title')\n",
    "\n",
    "# Selecionar colunas relevantes\n",
    "movies_df = movies_df[['movie_id', 'title', 'overview', 'genres', 'keywords', 'cast', 'crew', 'vote_average', 'vote_count']]\n",
    "\n",
    "# Tratar valores nulos\n",
    "movies_df.dropna(inplace=True)\n",
    "\n",
    "# Funções para converter gêneros, palavras-chave, elenco e diretores em listas de nomes\n",
    "def convert(obj):\n",
    "    L = []\n",
    "    for i in ast.literal_eval(obj):\n",
    "        L.append(i['name'])\n",
    "    return L\n",
    "\n",
    "def convert3(obj):\n",
    "    L = []\n",
    "    counter = 0\n",
    "    for i in ast.literal_eval(obj):\n",
    "        if counter != 3:\n",
    "            L.append(i['name'])\n",
    "            counter += 1\n",
    "        else:\n",
    "            break\n",
    "    return L\n",
    "\n",
    "def fetch_directors(obj):\n",
    "    L = []\n",
    "    for i in ast.literal_eval(obj):\n",
    "        if i['job'] == 'Director':\n",
    "            L.append(i['name'])\n",
    "    return L\n",
    "\n"
   ]
  },
  {
   "cell_type": "code",
   "execution_count": 9,
   "metadata": {},
   "outputs": [
    {
     "name": "stderr",
     "output_type": "stream",
     "text": [
      "C:\\Users\\daneil\\AppData\\Local\\Temp\\ipykernel_13468\\1041280938.py:21: SettingWithCopyWarning: \n",
      "A value is trying to be set on a copy of a slice from a DataFrame.\n",
      "Try using .loc[row_indexer,col_indexer] = value instead\n",
      "\n",
      "See the caveats in the documentation: https://pandas.pydata.org/pandas-docs/stable/user_guide/indexing.html#returning-a-view-versus-a-copy\n",
      "  df['tags'] = df['tags'].apply(lambda x: ' '.join(x))\n",
      "C:\\Users\\daneil\\AppData\\Local\\Temp\\ipykernel_13468\\1041280938.py:24: SettingWithCopyWarning: \n",
      "A value is trying to be set on a copy of a slice from a DataFrame.\n",
      "Try using .loc[row_indexer,col_indexer] = value instead\n",
      "\n",
      "See the caveats in the documentation: https://pandas.pydata.org/pandas-docs/stable/user_guide/indexing.html#returning-a-view-versus-a-copy\n",
      "  df['tags'] = df['tags'].apply(lambda x: x.lower())\n"
     ]
    }
   ],
   "source": [
    "# Aplicar as funções de conversão\n",
    "movies_df['genres'] = movies_df['genres'].apply(convert)\n",
    "movies_df['keywords'] = movies_df['keywords'].apply(convert)\n",
    "movies_df['cast'] = movies_df['cast'].apply(convert3)\n",
    "movies_df['crew'] = movies_df['crew'].apply(fetch_directors)\n",
    "\n",
    "# Tratar espaços em branco\n",
    "movies_df['overview'] = movies_df['overview'].apply(lambda x: x.split())\n",
    "movies_df['genres'] = movies_df['genres'].apply(lambda x: [i.replace(\" \", \"\") for i in x])\n",
    "movies_df['keywords'] = movies_df['keywords'].apply(lambda x: [i.replace(\" \", \"\") for i in x])\n",
    "movies_df['cast'] = movies_df['cast'].apply(lambda x: [i.replace(\" \", \"\") for i in x])\n",
    "movies_df['crew'] = movies_df['crew'].apply(lambda x: [i.replace(\" \", \"\") for i in x])\n",
    "\n",
    "# Criar a coluna 'tags'\n",
    "movies_df['tags'] = movies_df['overview'] + movies_df['genres'] + movies_df['keywords'] + movies_df['cast'] + movies_df['crew']\n",
    "\n",
    "# Criar um DataFrame final com as colunas necessárias\n",
    "df = movies_df[['movie_id', 'title', 'tags', 'genres', 'vote_average', 'vote_count']]\n",
    "\n",
    "# Converter a lista de tags em uma string\n",
    "df['tags'] = df['tags'].apply(lambda x: ' '.join(x))\n",
    "\n",
    "# Converter as tags para minúsculas\n",
    "df['tags'] = df['tags'].apply(lambda x: x.lower())\n",
    "\n",
    "\n"
   ]
  },
  {
   "cell_type": "code",
   "execution_count": 10,
   "metadata": {},
   "outputs": [
    {
     "name": "stderr",
     "output_type": "stream",
     "text": [
      "C:\\Users\\daneil\\AppData\\Local\\Temp\\ipykernel_13468\\2005820961.py:16: SettingWithCopyWarning: \n",
      "A value is trying to be set on a copy of a slice from a DataFrame.\n",
      "Try using .loc[row_indexer,col_indexer] = value instead\n",
      "\n",
      "See the caveats in the documentation: https://pandas.pydata.org/pandas-docs/stable/user_guide/indexing.html#returning-a-view-versus-a-copy\n",
      "  df['tags'] = df['tags'].apply(stem)\n"
     ]
    }
   ],
   "source": [
    "# Inicializar CountVectorizer\n",
    "cv = CountVectorizer(max_features=5000, stop_words='english')\n",
    "vectors = cv.fit_transform(df['tags']).toarray()\n",
    "\n",
    "# Inicializar PorterStemmer\n",
    "ps = PorterStemmer()\n",
    "\n",
    "# Função para aplicar stemming\n",
    "def stem(text):\n",
    "    y = []\n",
    "    for i in text.split():\n",
    "        y.append(ps.stem(i))\n",
    "    return ' '.join(y)\n",
    "\n",
    "# Aplicar stemming\n",
    "df['tags'] = df['tags'].apply(stem)\n",
    "\n",
    "# Calcular a similaridade coseno\n",
    "similarity = cosine_similarity(vectors)\n",
    "\n"
   ]
  },
  {
   "cell_type": "code",
   "execution_count": 11,
   "metadata": {},
   "outputs": [],
   "source": [
    "# Funções de recomendação\n",
    "def recommend(movie, n_recommendations=5):\n",
    "    movie_index = df[df['title'] == movie].index[0]\n",
    "    distances = similarity[movie_index]\n",
    "    movies_list = sorted(list(enumerate(distances)), reverse=True, key=lambda x: x[1])[1:n_recommendations+1]\n",
    "    recommendations = []\n",
    "    for i in movies_list:\n",
    "        title = df.iloc[i[0]].title\n",
    "        score = df.iloc[i[0]].vote_average\n",
    "        count = df.iloc[i[0]].vote_count\n",
    "        recommendations.append((title, score, count))\n",
    "    return recommendations\n",
    "\n",
    "def recomendagenero(movie, genero, n_recommendations=5):\n",
    "    listamostra = []\n",
    "    conta = 0\n",
    "    movie_index = df[df['title'] == movie].index[0]\n",
    "    distances = similarity[movie_index]\n",
    "    movies_list = sorted(list(enumerate(distances)), reverse=True, key=lambda x: x[1])[1:]\n",
    "    for i in movies_list:\n",
    "        if genero in df.iloc[i[0]].genres:\n",
    "            title = df.iloc[i[0]].title\n",
    "            score = df.iloc[i[0]].vote_average\n",
    "            count = df.iloc[i[0]].vote_count\n",
    "            listamostra.append((title, score, count))\n",
    "            conta += 1\n",
    "            if conta == n_recommendations:\n",
    "                break\n",
    "    return listamostra\n",
    "\n"
   ]
  },
  {
   "cell_type": "code",
   "execution_count": 12,
   "metadata": {},
   "outputs": [
    {
     "name": "stdout",
     "output_type": "stream",
     "text": [
      "Recomendações baseadas em 'Avatar':\n",
      "Titan A.E. - Nota: 6.3 - Votos: 313\n",
      "Independence Day - Nota: 6.7 - Votos: 3260\n",
      "Small Soldiers - Nota: 6.2 - Votos: 511\n",
      "Aliens vs Predator: Requiem - Nota: 4.9 - Votos: 740\n",
      "Battle: Los Angeles - Nota: 5.5 - Votos: 1448\n",
      "\n",
      "Recomendações no gênero 'Action' baseadas em 'Avatar':\n",
      "Titan A.E. - Nota: 6.3 - Votos: 313\n",
      "Independence Day - Nota: 6.7 - Votos: 3260\n",
      "Small Soldiers - Nota: 6.2 - Votos: 511\n",
      "Aliens vs Predator: Requiem - Nota: 4.9 - Votos: 740\n",
      "Battle: Los Angeles - Nota: 5.5 - Votos: 1448\n"
     ]
    }
   ],
   "source": [
    "# Testar recomendações\n",
    "recommendations = recommend('Avatar', 5)\n",
    "print(\"Recomendações baseadas em 'Avatar':\")\n",
    "for rec in recommendations:\n",
    "    print(f\"{rec[0]} - Nota: {rec[1]} - Votos: {rec[2]}\")\n",
    "\n",
    "genero = 'Action'  \n",
    "nome = 'Avatar'  \n",
    "genero_recommendations = recomendagenero(nome, genero, 5)\n",
    "print(f\"\\nRecomendações no gênero '{genero}' baseadas em '{nome}':\")\n",
    "for rec in genero_recommendations:\n",
    "    print(f\"{rec[0]} - Nota: {rec[1]} - Votos: {rec[2]}\")"
   ]
  },
  {
   "cell_type": "code",
   "execution_count": null,
   "metadata": {},
   "outputs": [],
   "source": []
  },
  {
   "cell_type": "code",
   "execution_count": null,
   "metadata": {},
   "outputs": [],
   "source": []
  }
 ],
 "metadata": {
  "kernelspec": {
   "display_name": "Python 3",
   "language": "python",
   "name": "python3"
  },
  "language_info": {
   "codemirror_mode": {
    "name": "ipython",
    "version": 3
   },
   "file_extension": ".py",
   "mimetype": "text/x-python",
   "name": "python",
   "nbconvert_exporter": "python",
   "pygments_lexer": "ipython3",
   "version": "3.11.6"
  }
 },
 "nbformat": 4,
 "nbformat_minor": 2
}
